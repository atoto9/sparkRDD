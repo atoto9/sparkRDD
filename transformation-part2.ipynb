{
 "cells": [
  {
   "cell_type": "markdown",
   "metadata": {
    "deletable": true,
    "editable": true
   },
   "source": [
    "## 2.鍵值(key/value)轉換操作"
   ]
  },
  {
   "cell_type": "markdown",
   "metadata": {
    "deletable": true,
    "editable": true
   },
   "source": [
    "### partitionBy / mapValues / flatMapValues"
   ]
  },
  {
   "cell_type": "code",
   "execution_count": 1,
   "metadata": {
    "collapsed": true,
    "deletable": true,
    "editable": true
   },
   "outputs": [],
   "source": [
    "var rdd1 = sc.makeRDD(Array((1,\"A\"),(2,\"B\"),(3,\"C\"),(4,\"D\")),2)"
   ]
  },
  {
   "cell_type": "code",
   "execution_count": 2,
   "metadata": {
    "collapsed": false,
    "deletable": true,
    "editable": true
   },
   "outputs": [
    {
     "data": {
      "text/plain": [
       "Array((part_0,List((2,B), (1,A))), (part_1,List((4,D), (3,C))))"
      ]
     },
     "execution_count": 2,
     "metadata": {},
     "output_type": "execute_result"
    }
   ],
   "source": [
    "//p.71 ::=向前疊加並存入 contains是否有包含\n",
    "rdd1.mapPartitionsWithIndex{\n",
    "    (partIndex, iter) => {\n",
    "        var part_map = scala.collection.mutable.Map[String,List[(Int,String)]]()\n",
    "        while(iter.hasNext){\n",
    "            var part_name = \"part_\" + partIndex;\n",
    "            var elem = iter.next()\n",
    "            if(part_map.contains(part_name)){\n",
    "                var elems = part_map(part_name)\n",
    "                elems ::= elem\n",
    "                part_map(part_name) = elems\n",
    "            }else{\n",
    "                part_map(part_name) = List[(Int,String)]{elem}\n",
    "            }\n",
    "        }\n",
    "        part_map.iterator\n",
    "    }\n",
    "}.collect"
   ]
  },
  {
   "cell_type": "code",
   "execution_count": 3,
   "metadata": {
    "collapsed": true,
    "deletable": true,
    "editable": true
   },
   "outputs": [],
   "source": [
    "//使用partitionBy重新分區\n",
    "var rdd2 = rdd1.partitionBy(new org.apache.spark.HashPartitioner(2))"
   ]
  },
  {
   "cell_type": "code",
   "execution_count": 4,
   "metadata": {
    "collapsed": false,
    "deletable": true,
    "editable": true
   },
   "outputs": [
    {
     "data": {
      "text/plain": [
       "Array((part_0,List((4,D), (2,B))), (part_1,List((3,C), (1,A))))"
      ]
     },
     "execution_count": 4,
     "metadata": {},
     "output_type": "execute_result"
    }
   ],
   "source": [
    "rdd2.mapPartitionsWithIndex{\n",
    "    (partIndex, iter) => {\n",
    "        var part_map = scala.collection.mutable.Map[String,List[(Int,String)]]()\n",
    "        while(iter.hasNext){\n",
    "            var part_name = \"part_\" + partIndex;\n",
    "            var elem = iter.next()\n",
    "            if(part_map.contains(part_name)){\n",
    "                var elems = part_map(part_name)\n",
    "                elems ::= elem\n",
    "                part_map(part_name) = elems\n",
    "            }else{\n",
    "                part_map(part_name) = List[(Int,String)]{elem}\n",
    "            }\n",
    "        }\n",
    "        part_map.iterator\n",
    "    }\n",
    "}.collect"
   ]
  },
  {
   "cell_type": "code",
   "execution_count": 5,
   "metadata": {
    "collapsed": true,
    "deletable": true,
    "editable": true
   },
   "outputs": [],
   "source": [
    "var rdd1 = sc.makeRDD(Array((1,\"A\"),(2,\"B\"),(3,\"C\"),(4,\"D\")),2)"
   ]
  },
  {
   "cell_type": "code",
   "execution_count": 6,
   "metadata": {
    "collapsed": false,
    "deletable": true,
    "editable": true
   },
   "outputs": [
    {
     "data": {
      "text/plain": [
       "Array((1,@A_), (2,@B_), (3,@C_), (4,@D_))"
      ]
     },
     "execution_count": 6,
     "metadata": {},
     "output_type": "execute_result"
    }
   ],
   "source": [
    "//mapValues對[K,V]中的V進行map操作\n",
    "rdd1.mapValues(x => \"@\" + x + \"_\").collect"
   ]
  },
  {
   "cell_type": "code",
   "execution_count": 7,
   "metadata": {
    "collapsed": false,
    "deletable": true,
    "editable": true
   },
   "outputs": [
    {
     "data": {
      "text/plain": [
       "Array((1,@), (1,A), (1,_), (2,@), (2,B), (2,_), (3,@), (3,C), (3,_), (4,@), (4,D), (4,_))"
      ]
     },
     "execution_count": 7,
     "metadata": {},
     "output_type": "execute_result"
    }
   ],
   "source": [
    "//flatMapValues對[K,V]中的V進行flatMap操作\n",
    "rdd1.flatMapValues(x => \"@\" + x + \"_\").collect"
   ]
  },
  {
   "cell_type": "markdown",
   "metadata": {
    "deletable": true,
    "editable": true
   },
   "source": [
    "### combineByKey / foldByKey"
   ]
  },
  {
   "cell_type": "code",
   "execution_count": 8,
   "metadata": {
    "collapsed": true,
    "deletable": true,
    "editable": true
   },
   "outputs": [],
   "source": [
    "var rdd1 = sc.makeRDD(Array((\"A\",1),(\"A\",2),(\"B\",1),(\"B\",2),(\"C\",1)))"
   ]
  },
  {
   "cell_type": "code",
   "execution_count": 10,
   "metadata": {
    "collapsed": true,
    "deletable": true,
    "editable": true
   },
   "outputs": [
    {
     "data": {
      "text/plain": [
       "Name: Syntax Error.\n",
       "Message: \n",
       "StackTrace: "
      ]
     },
     "execution_count": 10,
     "metadata": {},
     "output_type": "execute_result"
    }
   ],
   "source": [
    "//該函數用於將RDD[K,V]轉換成RDD[K,C],這裡的V類型和C類型可以相同也可以不同。\n",
    "//createCombiner：組合器函數，用於將V類型轉換成C類型，輸入參數為RDD[K,V]中的V,輸出為C\n",
    "//mergeValue：合併值函數，將一個C類型和一個V類型值合併成一個C類型，輸入參數為(C,V)，輸出為C\n",
    "//mergeCombiners：合併組合器函數，用於將兩個C類型值合併成一個C類型，輸入參數為(C,C)，輸出為C\n",
    "//createCombiner: (V) => C\n",
    "//(v : Int) => v + “_” //在每一个V值后面加上字符_，返回C类型(String)\n",
    "//mergeValue: (C, V) => C\n",
    "//(c : String, v : Int) => c + “@” + v //合并C类型和V类型，中间加字符@,返回C(String)\n",
    "//mergeCombiners: (C, C) => C\n",
    "//(c1 : String, c2 : String) => c1 + “$” + c2 //合并C类型和C类型，中间加$，返回C(String)其他参数为默认值。\n",
    "//combineByKey結果與spark-shell不同,請見combineByKey.png"
   ]
  },
  {
   "cell_type": "code",
   "execution_count": 11,
   "metadata": {
    "collapsed": false
   },
   "outputs": [
    {
     "data": {
      "text/plain": [
       "Array((B,1_@2), (A,1_@2), (C,1_))"
      ]
     },
     "execution_count": 11,
     "metadata": {},
     "output_type": "execute_result"
    }
   ],
   "source": [
    "rdd1.combineByKey(\n",
    "    (v : Int) => v + \"_\",\n",
    "    (c : String, v : Int) => c + \"@\" + v,\n",
    "    (c1 : String, c2 : String) => c1 + \"$\" + c2\n",
    ").collect"
   ]
  },
  {
   "cell_type": "code",
   "execution_count": 12,
   "metadata": {
    "collapsed": true,
    "deletable": true,
    "editable": true
   },
   "outputs": [],
   "source": [
    "var rdd1 = sc.makeRDD(Array((\"A\",0),(\"A\",2),(\"B\",1),(\"B\",2),(\"C\",1)))"
   ]
  },
  {
   "cell_type": "code",
   "execution_count": 13,
   "metadata": {
    "collapsed": false,
    "deletable": true,
    "editable": true
   },
   "outputs": [
    {
     "data": {
      "text/plain": [
       "Array((B,3), (A,2), (C,1))"
      ]
     },
     "execution_count": 13,
     "metadata": {},
     "output_type": "execute_result"
    }
   ],
   "source": [
    "//將rdd1中每個key對應的V進行累加，注意zeroValue=0,需要先初始化V,映射函數為+操\n",
    "//作，比如(\"A\",0), (\"A\",2)，先將zeroValue應用於每個V,得到：(\"A\",0+0), (\"A\",2+0)，即：\n",
    "//(\"A\",0), (\"A\",2)，再將映射函數應用於初始化後的V，最後得到(A,0+2),即(A,2)\n",
    "rdd1.foldByKey(0)(_+_).collect"
   ]
  },
  {
   "cell_type": "code",
   "execution_count": 15,
   "metadata": {
    "collapsed": false,
    "deletable": true,
    "editable": true
   },
   "outputs": [
    {
     "data": {
      "text/plain": [
       "Array((B,5), (A,4), (C,3))"
      ]
     },
     "execution_count": 15,
     "metadata": {},
     "output_type": "execute_result"
    }
   ],
   "source": [
    "//foldByKey結果與spark-shell不同,請見foldByKey.png\n",
    "rdd1.foldByKey(2)(_+_).collect"
   ]
  },
  {
   "cell_type": "code",
   "execution_count": 16,
   "metadata": {
    "collapsed": false,
    "deletable": true,
    "editable": true
   },
   "outputs": [
    {
     "data": {
      "text/plain": [
       "Array((B,0), (A,0), (C,0))"
      ]
     },
     "execution_count": 16,
     "metadata": {},
     "output_type": "execute_result"
    }
   ],
   "source": [
    "rdd1.foldByKey(0)(_*_).collect"
   ]
  },
  {
   "cell_type": "code",
   "execution_count": 17,
   "metadata": {
    "collapsed": false,
    "deletable": true,
    "editable": true
   },
   "outputs": [
    {
     "data": {
      "text/plain": [
       "Array((B,2), (A,0), (C,1))"
      ]
     },
     "execution_count": 17,
     "metadata": {},
     "output_type": "execute_result"
    }
   ],
   "source": [
    "rdd1.foldByKey(1)(_*_).collect"
   ]
  },
  {
   "cell_type": "markdown",
   "metadata": {
    "deletable": true,
    "editable": true
   },
   "source": [
    "### groupByKey / reduceByKey / reduceByKeyLocal"
   ]
  },
  {
   "cell_type": "code",
   "execution_count": 18,
   "metadata": {
    "collapsed": true,
    "deletable": true,
    "editable": true
   },
   "outputs": [],
   "source": [
    "var rdd1 = sc.makeRDD(Array((\"A\",0),(\"A\",2),(\"B\",1),(\"B\",2),(\"C\",1)))"
   ]
  },
  {
   "cell_type": "code",
   "execution_count": 19,
   "metadata": {
    "collapsed": false,
    "deletable": true,
    "editable": true
   },
   "outputs": [
    {
     "data": {
      "text/plain": [
       "Array((B,CompactBuffer(1, 2)), (A,CompactBuffer(0, 2)), (C,CompactBuffer(1)))"
      ]
     },
     "execution_count": 19,
     "metadata": {},
     "output_type": "execute_result"
    }
   ],
   "source": [
    "//groupByKey將RDD[K,V]中每個K對應的V值，合併到一個集合Iterable[V]\n",
    "rdd1.groupByKey.collect"
   ]
  },
  {
   "cell_type": "code",
   "execution_count": 20,
   "metadata": {
    "collapsed": false,
    "deletable": true,
    "editable": true
   },
   "outputs": [
    {
     "data": {
      "text/plain": [
       "Array((B,3), (A,2), (C,1))"
      ]
     },
     "execution_count": 20,
     "metadata": {},
     "output_type": "execute_result"
    }
   ],
   "source": [
    "//reduceByKey將RDD[K,V]中每個K對應的V值根據映射函數來運算\n",
    "rdd1.reduceByKey(_+_).collect"
   ]
  },
  {
   "cell_type": "code",
   "execution_count": 21,
   "metadata": {
    "collapsed": true,
    "deletable": true,
    "editable": true
   },
   "outputs": [],
   "source": [
    "//use reduceByKey進行重新分區\n",
    "var rdd2 = rdd1.reduceByKey(new org.apache.spark.HashPartitioner(2),_+_)"
   ]
  },
  {
   "cell_type": "code",
   "execution_count": 22,
   "metadata": {
    "collapsed": false,
    "deletable": true,
    "editable": true
   },
   "outputs": [
    {
     "data": {
      "text/plain": [
       "Array((B,3), (A,2), (C,1))"
      ]
     },
     "execution_count": 22,
     "metadata": {},
     "output_type": "execute_result"
    }
   ],
   "source": [
    "rdd2.collect"
   ]
  },
  {
   "cell_type": "code",
   "execution_count": 23,
   "metadata": {
    "collapsed": false,
    "deletable": true,
    "editable": true
   },
   "outputs": [
    {
     "data": {
      "text/plain": [
       "Map(A -> 2, B -> 3, C -> 1)"
      ]
     },
     "execution_count": 23,
     "metadata": {},
     "output_type": "execute_result"
    }
   ],
   "source": [
    "//reduceByKeyLocal將RDD[K,V]中每個K對應的V值根據映射函數來運算，運算結果映射到一個Map[K,V]中，而不是RDD[K,V]\n",
    "rdd1.reduceByKeyLocally(_+_)"
   ]
  },
  {
   "cell_type": "markdown",
   "metadata": {
    "deletable": true,
    "editable": true
   },
   "source": [
    "### cogroup "
   ]
  },
  {
   "cell_type": "code",
   "execution_count": 24,
   "metadata": {
    "collapsed": true,
    "deletable": true,
    "editable": true
   },
   "outputs": [],
   "source": [
    "var rdd1 = sc.makeRDD(Array((\"A\",1),(\"B\",2),(\"C\",3)),2)"
   ]
  },
  {
   "cell_type": "code",
   "execution_count": 25,
   "metadata": {
    "collapsed": true,
    "deletable": true,
    "editable": true
   },
   "outputs": [],
   "source": [
    "var rdd2 = sc.makeRDD(Array((\"A\",\"a\"),(\"D\",\"d\"),(\"C\",\"c\")),2)"
   ]
  },
  {
   "cell_type": "code",
   "execution_count": 26,
   "metadata": {
    "collapsed": true,
    "deletable": true,
    "editable": true
   },
   "outputs": [],
   "source": [
    "var rdd3 = sc.makeRDD(Array((\"A\",\"A\"),(\"E\",\"E\")),2)"
   ]
  },
  {
   "cell_type": "code",
   "execution_count": 27,
   "metadata": {
    "collapsed": true,
    "deletable": true,
    "editable": true
   },
   "outputs": [],
   "source": [
    "//cogroup相當於SQL中的全外關聯full outer join，返回左右RDD中的記錄，關聯不上的為空\n",
    "var rdd4 = rdd1.cogroup(rdd2,rdd3)"
   ]
  },
  {
   "cell_type": "code",
   "execution_count": 28,
   "metadata": {
    "collapsed": false,
    "deletable": true,
    "editable": true
   },
   "outputs": [
    {
     "data": {
      "text/plain": [
       "2"
      ]
     },
     "execution_count": 28,
     "metadata": {},
     "output_type": "execute_result"
    }
   ],
   "source": [
    "rdd4.partitions.size"
   ]
  },
  {
   "cell_type": "code",
   "execution_count": 29,
   "metadata": {
    "collapsed": false,
    "deletable": true,
    "editable": true
   },
   "outputs": [
    {
     "data": {
      "text/plain": [
       "Array((B,(CompactBuffer(2),CompactBuffer(),CompactBuffer())), (D,(CompactBuffer(),CompactBuffer(d),CompactBuffer())), (A,(CompactBuffer(1),CompactBuffer(a),CompactBuffer(A))), (C,(CompactBuffer(3),CompactBuffer(c),CompactBuffer())), (E,(CompactBuffer(),CompactBuffer(),CompactBuffer(E))))"
      ]
     },
     "execution_count": 29,
     "metadata": {},
     "output_type": "execute_result"
    }
   ],
   "source": [
    "rdd4.collect"
   ]
  },
  {
   "cell_type": "markdown",
   "metadata": {
    "deletable": true,
    "editable": true
   },
   "source": [
    "### join / leftOuterJoin / roghtOuterJoin / subtractByKey"
   ]
  },
  {
   "cell_type": "code",
   "execution_count": 30,
   "metadata": {
    "collapsed": true,
    "deletable": true,
    "editable": true
   },
   "outputs": [],
   "source": [
    "var rdd1 = sc.makeRDD(Array((\"A\",\"1\"),(\"B\",\"2\"),(\"C\",\"3\")),2)"
   ]
  },
  {
   "cell_type": "code",
   "execution_count": 31,
   "metadata": {
    "collapsed": true,
    "deletable": true,
    "editable": true
   },
   "outputs": [],
   "source": [
    "var rdd2 = sc.makeRDD(Array((\"A\",\"a\"),(\"C\",\"c\"),(\"D\",\"d\")),2)"
   ]
  },
  {
   "cell_type": "code",
   "execution_count": 32,
   "metadata": {
    "collapsed": false,
    "deletable": true,
    "editable": true
   },
   "outputs": [
    {
     "data": {
      "text/plain": [
       "Array((A,(1,a)), (C,(3,c)))"
      ]
     },
     "execution_count": 32,
     "metadata": {},
     "output_type": "execute_result"
    }
   ],
   "source": [
    "rdd1.join(rdd2).collect"
   ]
  },
  {
   "cell_type": "code",
   "execution_count": 33,
   "metadata": {
    "collapsed": false,
    "deletable": true,
    "editable": true
   },
   "outputs": [
    {
     "data": {
      "text/plain": [
       "Array((B,(2,None)), (A,(1,Some(a))), (C,(3,Some(c))))"
      ]
     },
     "execution_count": 33,
     "metadata": {},
     "output_type": "execute_result"
    }
   ],
   "source": [
    "rdd1.leftOuterJoin(rdd2).collect"
   ]
  },
  {
   "cell_type": "code",
   "execution_count": 34,
   "metadata": {
    "collapsed": false,
    "deletable": true,
    "editable": true
   },
   "outputs": [
    {
     "data": {
      "text/plain": [
       "Array((D,(None,d)), (A,(Some(1),a)), (C,(Some(3),c)))"
      ]
     },
     "execution_count": 34,
     "metadata": {},
     "output_type": "execute_result"
    }
   ],
   "source": [
    "rdd1.rightOuterJoin(rdd2).collect"
   ]
  },
  {
   "cell_type": "code",
   "execution_count": 35,
   "metadata": {
    "collapsed": false,
    "deletable": true,
    "editable": true
   },
   "outputs": [
    {
     "data": {
      "text/plain": [
       "Array((B,2))"
      ]
     },
     "execution_count": 35,
     "metadata": {},
     "output_type": "execute_result"
    }
   ],
   "source": [
    "rdd1.subtractByKey(rdd2).collect"
   ]
  }
 ],
 "metadata": {
  "kernelspec": {
   "display_name": "Apache Toree - Scala",
   "language": "scala",
   "name": "apache_toree_scala"
  },
  "language_info": {
   "file_extension": ".scala",
   "name": "scala",
   "version": "2.11.8"
  }
 },
 "nbformat": 4,
 "nbformat_minor": 2
}
